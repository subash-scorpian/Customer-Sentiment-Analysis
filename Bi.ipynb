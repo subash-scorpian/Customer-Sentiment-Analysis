{
  "nbformat": 4,
  "nbformat_minor": 0,
  "metadata": {
    "colab": {
      "provenance": []
    },
    "kernelspec": {
      "name": "python3",
      "display_name": "Python 3"
    },
    "language_info": {
      "name": "python"
    }
  },
  "cells": [
    {
      "cell_type": "code",
      "source": [
        "import pandas as pd\n",
        "import nltk\n",
        "from nltk.sentiment import SentimentIntensityAnalyzer"
      ],
      "metadata": {
        "id": "c_byCcrAAY-6"
      },
      "execution_count": 1,
      "outputs": []
    },
    {
      "cell_type": "code",
      "execution_count": 2,
      "metadata": {
        "colab": {
          "base_uri": "https://localhost:8080/"
        },
        "id": "uNd_lTqxALE8",
        "outputId": "5a9b4696-75b7-49de-d9d7-ba8992149b2c"
      },
      "outputs": [
        {
          "output_type": "stream",
          "name": "stderr",
          "text": [
            "[nltk_data] Downloading package vader_lexicon to /root/nltk_data...\n"
          ]
        },
        {
          "output_type": "stream",
          "name": "stdout",
          "text": [
            "done'cleaned_reviews.csv'.\n"
          ]
        }
      ],
      "source": [
        "# Download VADER if not already installed\n",
        "nltk.download('vader_lexicon')\n",
        "\n",
        "# Load the dataset\n",
        "df = pd.read_csv(\"/content/Reviews.csv\")\n",
        "\n",
        "# Keep only relevant columns\n",
        "df = df[['Time', 'Score', 'Text']]\n",
        "df = df.rename(columns={'Text': 'Review', 'Score': 'Rating', 'Time': 'Timestamp'})\n",
        "\n",
        "# Convert Timestamp to datetime\n",
        "df['Timestamp'] = pd.to_datetime(df['Timestamp'], unit='s')\n",
        "\n",
        "# Initialize Sentiment Analyzer\n",
        "sia = SentimentIntensityAnalyzer()\n",
        "\n",
        "# Function to classify sentiment\n",
        "def classify_sentiment(review):\n",
        "    score = sia.polarity_scores(str(review))['compound']\n",
        "    if score > 0.05:\n",
        "        return 'Positive'\n",
        "    elif score < -0.05:\n",
        "        return 'Negative'\n",
        "    else:\n",
        "        return 'Neutral'\n",
        "\n",
        "# Apply sentiment classification\n",
        "df['Sentiment'] = df['Review'].apply(classify_sentiment)\n",
        "\n",
        "# Save the cleaned dataset\n",
        "df.to_csv(\"cleaned_reviews.csv\", index=False)\n",
        "\n",
        "print(\"done'cleaned_reviews.csv'.\")\n"
      ]
    }
  ]
}